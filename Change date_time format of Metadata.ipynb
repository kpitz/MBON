{
 "cells": [
  {
   "cell_type": "code",
   "execution_count": 2,
   "metadata": {
    "collapsed": true
   },
   "outputs": [],
   "source": [
    "import glob\n",
    "import pandas as pd\n",
    "import numpy as np"
   ]
  },
  {
   "cell_type": "code",
   "execution_count": 15,
   "metadata": {},
   "outputs": [
    {
     "name": "stdout",
     "output_type": "stream",
     "text": [
      "['/Users/kpitz/Projects/MBON/Metadata/Merged_completed_Metadata_files/updated_dates/18S_AnchWhale_twostep_Metadata_061317.csv', '/Users/kpitz/Projects/MBON/Metadata/Merged_completed_Metadata_files/updated_dates/18S_CN15CN16_Metadata_061317.csv', '/Users/kpitz/Projects/MBON/Metadata/Merged_completed_Metadata_files/updated_dates/18S_D_All_Metadata_061317_krw.csv', '/Users/kpitz/Projects/MBON/Metadata/Merged_completed_Metadata_files/updated_dates/18S_M2W_Metadata_061317_krw.csv', '/Users/kpitz/Projects/MBON/Metadata/Merged_completed_Metadata_files/updated_dates/COI_AnchWhale_twostep_Metadata_061317.csv', '/Users/kpitz/Projects/MBON/Metadata/Merged_completed_Metadata_files/updated_dates/COI_CanonHPLC_Metadata_061217_krw.csv', '/Users/kpitz/Projects/MBON/Metadata/Merged_completed_Metadata_files/updated_dates/COI_MBCOI_M2W_metadata.csv']\n",
      "/Users/kpitz/Projects/MBON/Metadata/Merged_completed_Metadata_files/updated_dates/18S_AnchWhale_twostep_Metadata_061317.csv\n",
      "0   2008-08-19 14:31:00\n",
      "1   2008-09-18 13:35:00\n",
      "2   2009-08-18 14:31:00\n",
      "3   2009-09-09 14:35:00\n",
      "4   2010-08-02 14:54:00\n",
      "Name: DATE_TIME_GMT, dtype: datetime64[ns]\n",
      "/Users/kpitz/Projects/MBON/Metadata/Merged_completed_Metadata_files/updated_dates/18S_CN15CN16_Metadata_061317.csv\n",
      "0   2015-10-01 02:37:52\n",
      "1   2015-10-01 02:37:52\n",
      "2   2015-10-02 23:05:39\n",
      "3   2015-10-02 23:05:39\n",
      "4   2015-10-01 16:59:38\n",
      "Name: DATE_TIME_GMT, dtype: datetime64[ns]\n",
      "/Users/kpitz/Projects/MBON/Metadata/Merged_completed_Metadata_files/updated_dates/18S_D_All_Metadata_061317_krw.csv\n",
      "0   2013-04-10 14:37:00\n",
      "1   2013-04-10 16:13:00\n",
      "2   2013-04-10 19:17:00\n",
      "3   2013-04-26 14:46:00\n",
      "4   2013-04-26 19:55:00\n",
      "Name: DATE_TIME_GMT, dtype: datetime64[ns]\n",
      "/Users/kpitz/Projects/MBON/Metadata/Merged_completed_Metadata_files/updated_dates/18S_M2W_Metadata_061317_krw.csv\n",
      "0   2013-05-22 15:47:00\n",
      "1   2013-05-22 15:47:00\n",
      "2   2013-05-22 15:47:00\n",
      "3   2013-08-08 14:41:00\n",
      "4   2013-08-08 14:41:00\n",
      "Name: DATE_TIME_GMT, dtype: datetime64[ns]\n",
      "/Users/kpitz/Projects/MBON/Metadata/Merged_completed_Metadata_files/updated_dates/COI_AnchWhale_twostep_Metadata_061317.csv\n",
      "0   2008-08-19 14:31:00\n",
      "1   2008-09-18 13:35:00\n",
      "2   2009-08-18 14:31:00\n",
      "3   2009-09-09 14:35:00\n",
      "4   2010-08-02 14:54:00\n",
      "Name: DATE_TIME_GMT, dtype: datetime64[ns]\n",
      "/Users/kpitz/Projects/MBON/Metadata/Merged_completed_Metadata_files/updated_dates/COI_CanonHPLC_Metadata_061217_krw.csv\n",
      "0   2015-09-30 19:00:00\n",
      "1   2015-09-30 19:00:00\n",
      "2   2015-10-01 16:59:00\n",
      "3   2015-10-01 16:59:00\n",
      "4   2015-10-01 19:05:00\n",
      "Name: DATE_TIME_GMT, dtype: datetime64[ns]\n",
      "/Users/kpitz/Projects/MBON/Metadata/Merged_completed_Metadata_files/updated_dates/COI_MBCOI_M2W_metadata.csv\n",
      "0   2013-05-22 15:47:06\n",
      "1   2013-05-22 15:47:06\n",
      "2   2013-05-22 15:47:06\n",
      "3   2013-08-08 14:41:51\n",
      "4   2013-08-08 14:41:51\n",
      "Name: DATE_TIME_GMT, dtype: datetime64[ns]\n"
     ]
    }
   ],
   "source": [
    "directory = \"/Users/kpitz/Projects/MBON/Metadata/Merged_completed_Metadata_files/updated_dates/*.csv\"\n",
    "files = glob.glob(directory)\n",
    "print(files)\n",
    "for file in files:\n",
    "    print(file)\n",
    "    #DATE_TIME_GMT -> change format to YYYY-MM-DD H:M:S\n",
    "    # 2013-05-22 15:47:06\n",
    "    df = pd.read_csv(file)\n",
    "    #print(df['DATE_TIME_GMT'].head())\n",
    "    df['DATE_TIME_GMT']=df['DATE_TIME_GMT'].fillna('')\n",
    "    df['DATE_TIME_GMT'] = pd.to_datetime(df['DATE_TIME_GMT'])\n",
    "    df.to_csv(file)\n",
    "    print(df['DATE_TIME_GMT'].head())"
   ]
  },
  {
   "cell_type": "code",
   "execution_count": null,
   "metadata": {
    "collapsed": true
   },
   "outputs": [],
   "source": []
  }
 ],
 "metadata": {
  "anaconda-cloud": {},
  "kernelspec": {
   "display_name": "Python [default]",
   "language": "python",
   "name": "python3"
  },
  "language_info": {
   "codemirror_mode": {
    "name": "ipython",
    "version": 3
   },
   "file_extension": ".py",
   "mimetype": "text/x-python",
   "name": "python",
   "nbconvert_exporter": "python",
   "pygments_lexer": "ipython3",
   "version": "3.5.2"
  }
 },
 "nbformat": 4,
 "nbformat_minor": 1
}
